{
 "cells": [
  {
   "cell_type": "markdown",
   "metadata": {},
   "source": [
    "# Diffusion Model"
   ]
  },
  {
   "cell_type": "markdown",
   "metadata": {},
   "source": [
    "**NOTE**: You will need to place this file on the same level as another folder named \"*/dif_images*\". ImageIO will not always create this folder automatically, so it may need to be created manually."
   ]
  },
  {
   "cell_type": "code",
   "execution_count": 4,
   "metadata": {
    "scrolled": false
   },
   "outputs": [
    {
     "name": "stdout",
     "output_type": "stream",
     "text": [
      "Running Simulation\n"
     ]
    },
    {
     "data": {
      "image/png": "[encoded data removed]",
      "text/plain": [
       "<Figure size 432x288 with 1 Axes>"
      ]
     },
     "metadata": {
      "needs_background": "light"
     },
     "output_type": "display_data"
    }
   ],
   "source": [
    "import matplotlib.pyplot as plt\n",
    "import numpy as np\n",
    "import time\n",
    "from scipy import signal\n",
    "import imageio \n",
    "\n",
    "%matplotlib inline\n",
    "\n",
    "images = []\n",
    "\n",
    "def simulate(numIter, A, B, f, k, dt, dA, dB, lapl, plot_iter):\n",
    "    print(\"Running Simulation\")\n",
    "    start = time.time()\n",
    "\n",
    "    # Run the simulation\n",
    "    for iter in range(numIter):\n",
    "        A_new = A + (dA * signal.convolve2d(A, lapl, mode='same', boundary='fill', fillvalue=0)) * dt\n",
    "        B_new = B + (dB * signal.convolve2d(B, lapl, mode='same', boundary='fill', fillvalue=0)) * dt\n",
    "        A = np.copy(A_new)\n",
    "        B = np.copy(B_new)\n",
    "        if (iter % plot_iter is 0):\n",
    "            plt.clf()\n",
    "            plt.imshow((B / (A+B)),cmap='Spectral')\n",
    "            plt.axis('off')\n",
    "            now = time.time()\n",
    "            # print(\"Seconds since epoch =\", now-start)\n",
    "            # plt.show()\n",
    "            filename = 'dif_images/diffusion_'+str(iter)+'.png'\n",
    "            plt.savefig(filename)\n",
    "            images.append(imageio.imread(filename))\n",
    "    \n",
    "    return A, B\n",
    "\n",
    "# _*_*_*_*_*_*_*_*_* GRID PROPERTIES *_*_*_*_*_*_*_*_*_*\n",
    "grid_size = 101 # Needs to be odd\n",
    "numIter = 10000;\n",
    "seed_size = 11 # Needs to be an odd number\n",
    "A = np.ones((grid_size,grid_size))\n",
    "B = np.zeros((grid_size,grid_size))\n",
    "\n",
    "# Seed the predators\n",
    "B[int(grid_size/2)-int(seed_size/2):int(grid_size/2)+int(seed_size/2)+1, \\\n",
    "int(grid_size/2)-int(seed_size/2):int(grid_size/2)+int(seed_size/2)+1] = \\\n",
    "np.ones((seed_size,seed_size))\n",
    "\n",
    "# _*_*_*_*_*_*_*_*_* SIMULATION VARIABLES *_*_*_*_*_*_*_*_*_*\n",
    "f = 0.055\n",
    "k = 0.062\n",
    "dt = 1.0\n",
    "dA = 0.5\n",
    "dB = 0.1\n",
    "lapl = np.array([[0.05, 0.2, 0.05],[0.2, -1.0, 0.2],[0.05, 0.2, 0.05]])\n",
    "plot_iter = 50\n",
    "\n",
    "simulate(numIter, A, B, f, k, dt, dA, dB, lapl, plot_iter)\n",
    "imageio.mimsave('dif_images/0diffusion_movie.gif', images)\n"
   ]
  },
  {
   "cell_type": "code",
   "execution_count": null,
   "metadata": {},
   "outputs": [],
   "source": []
  },
  {
   "cell_type": "code",
   "execution_count": null,
   "metadata": {},
   "outputs": [],
   "source": []
  }
 ],
 "metadata": {
  "kernelspec": {
   "display_name": "Python 3",
   "language": "python",
   "name": "python3"
  },
  "language_info": {
   "codemirror_mode": {
    "name": "ipython",
    "version": 3
   },
   "file_extension": ".py",
   "mimetype": "text/x-python",
   "name": "python",
   "nbconvert_exporter": "python",
   "pygments_lexer": "ipython3",
   "version": "3.7.0"
  }
 },
 "nbformat": 4,
 "nbformat_minor": 2
}
